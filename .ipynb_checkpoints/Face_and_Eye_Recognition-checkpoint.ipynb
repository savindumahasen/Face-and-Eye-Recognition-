{
 "cells": [
  {
   "cell_type": "markdown",
   "id": "9e86c718-5c05-4e8a-ae82-90aebc00ecfc",
   "metadata": {},
   "source": [
    "## Face and Eye Recognition (HARR Classifier Model)"
   ]
  },
  {
   "cell_type": "code",
   "execution_count": 41,
   "id": "4cd8bf2a-264c-4f03-9ae8-6b708f706dea",
   "metadata": {},
   "outputs": [],
   "source": [
    "## import necessary librries\n",
    "import numpy as np\n",
    "import cv2\n",
    "\n",
    "## load the haarcascade frontface xml file and eye xml file\n",
    "face_classifier = cv2.CascadeClassifier('haarcascade_frontalface_default.xml')\n",
    "eye_classifier = cv2.CascadeClassifier('haarcascade_eye.xml')"
   ]
  },
  {
   "cell_type": "code",
   "execution_count": 42,
   "id": "215af5b8-3ab5-4903-b179-84444422557e",
   "metadata": {},
   "outputs": [],
   "source": [
    "## load and read the image\n",
    "image=cv2.imread('Images/savindu.jpeg')  \n",
    "cv2.imshow('Savindu',image)\n",
    "cv2.waitKey()\n",
    "cv2.destroyAllWindows()"
   ]
  },
  {
   "cell_type": "code",
   "execution_count": 43,
   "id": "1c5a48a2-bee7-4d37-a007-53262d91ff90",
   "metadata": {},
   "outputs": [],
   "source": [
    "## convert the loaded image  into  gray scale\n",
    "gray_image=cv2.cvtColor(image,cv2.COLOR_BGR2GRAY)\n",
    "cv2.imshow('Savindu',gray_image)\n",
    "cv2.waitKey()\n",
    "cv2.destroyAllWindows()"
   ]
  },
  {
   "cell_type": "code",
   "execution_count": 44,
   "id": "ef946e93-7ace-487b-860e-76c835a0b645",
   "metadata": {},
   "outputs": [
    {
     "name": "stderr",
     "output_type": "stream",
     "text": [
      "<>:4: SyntaxWarning: \"is\" with 'tuple' literal. Did you mean \"==\"?\n",
      "<>:4: SyntaxWarning: \"is\" with 'tuple' literal. Did you mean \"==\"?\n",
      "C:\\Users\\THIS PC\\AppData\\Local\\Temp\\ipykernel_56076\\4227302845.py:4: SyntaxWarning: \"is\" with 'tuple' literal. Did you mean \"==\"?\n",
      "  if faces is ():\n"
     ]
    }
   ],
   "source": [
    "## detect the locations of face\n",
    "faces=face_classifier.detectMultiScale(gray_image,1.3,5)\n",
    "\n",
    "if faces is ():\n",
    "    print('No Face Found')\n",
    "\n",
    "## we iterate face array and draw  a rectangle  to  indentify face\n",
    "for (x,y,w,h) in faces:\n",
    "    cv2.rectangle(image,(x,y),(x+w,y+h),(127,0,255),2)\n",
    "    cv2.imshow('Savindu',image)\n",
    "    cv2.waitKey(0)\n",
    "    roi_gray = gray_image[y:y+h,x:x+w]\n",
    "    roi_image=image[y:y+h,x:x+w]\n",
    "    eyes=eye_classifier.detectMultiScale(roi_gray)\n",
    "    for (ex,ey,ew,eh) in eyes:\n",
    "        cv2.rectangle(roi_image,(ex,ey),(ex+ew,ey+eh),(255,22,0),2)\n",
    "        cv2.imshow('Savindu',image)\n",
    "        cv2.waitKey(0)\n",
    "\n",
    "cv2.destroyAllWindows()"
   ]
  },
  {
   "cell_type": "code",
   "execution_count": null,
   "id": "2932803a-9f67-4317-85ec-b8666229b2ac",
   "metadata": {},
   "outputs": [],
   "source": []
  }
 ],
 "metadata": {
  "kernelspec": {
   "display_name": "Python 3 (ipykernel)",
   "language": "python",
   "name": "python3"
  },
  "language_info": {
   "codemirror_mode": {
    "name": "ipython",
    "version": 3
   },
   "file_extension": ".py",
   "mimetype": "text/x-python",
   "name": "python",
   "nbconvert_exporter": "python",
   "pygments_lexer": "ipython3",
   "version": "3.12.1"
  }
 },
 "nbformat": 4,
 "nbformat_minor": 5
}
