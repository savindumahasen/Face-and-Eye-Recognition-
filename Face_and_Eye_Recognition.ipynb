{
 "cells": [
  {
   "cell_type": "markdown",
   "id": "9e86c718-5c05-4e8a-ae82-90aebc00ecfc",
   "metadata": {},
   "source": [
    "## Face and Eye Recognition (HARR Classifier Model)"
   ]
  },
  {
   "cell_type": "code",
   "execution_count": 2,
   "id": "4cd8bf2a-264c-4f03-9ae8-6b708f706dea",
   "metadata": {},
   "outputs": [],
   "source": [
    "## import necessary librries\n",
    "import numpy as np\n",
    "import cv2\n",
    "\n",
    "## load the haarcascade frontface xml file and eye xml file\n",
    "face_classifier = cv2.CascadeClassifier('haarcascade_frontalface_default.xml')\n",
    "eye_classifier = cv2.CascadeClassifier('haarcascade_eye.xml')"
   ]
  },
  {
   "cell_type": "code",
   "execution_count": 30,
   "id": "215af5b8-3ab5-4903-b179-84444422557e",
   "metadata": {},
   "outputs": [
    {
     "name": "stderr",
     "output_type": "stream",
     "text": [
      "<>:17: SyntaxWarning: \"is\" with 'tuple' literal. Did you mean \"==\"?\n",
      "<>:17: SyntaxWarning: \"is\" with 'tuple' literal. Did you mean \"==\"?\n",
      "C:\\Users\\THIS PC\\AppData\\Local\\Temp\\ipykernel_53152\\1077326631.py:17: SyntaxWarning: \"is\" with 'tuple' literal. Did you mean \"==\"?\n",
      "  if faces is():\n"
     ]
    }
   ],
   "source": [
    "## load and read the image\n",
    "## if you need to identify the face and eyes of images  give the patho of this image below\n",
    "image_path=''\n",
    "image=cv2.imread(image_path) \n",
    "if(image_path):\n",
    "    cv2.imshow('Image',image)\n",
    "    cv2.waitKey()\n",
    "    cv2.destroyAllWindows()\n",
    "    ## convert the loaded image  into  gray scale\n",
    "    gray_image=cv2.cvtColor(image,cv2.COLOR_BGR2GRAY)\n",
    "    cv2.imshow('Image',gray_image)\n",
    "    cv2.waitKey()\n",
    "    cv2.destroyAllWindows()\n",
    "    ## detect the locations of face\n",
    "    faces=face_classifier.detectMultiScale(gray_image,1.3,5)\n",
    "\n",
    "    if faces is():\n",
    "        print(\"Face is not found\")\n",
    "    ## we iterate face array and draw  a rectangle  to  indentify face\n",
    "    for (x,y,w,h) in faces:\n",
    "        cv2.rectangle(image,(x,y),(x+w,y+h),(127,0,255),2)\n",
    "        cv2.imshow('Image',image)\n",
    "        cv2.waitKey(0)\n",
    "        roi_gray = gray_image[y:y+h,x:x+w]\n",
    "        roi_image=image[y:y+h,x:x+w]\n",
    "        eyes=eye_classifier.detectMultiScale(roi_gray)\n",
    "        for (ex,ey,ew,eh) in eyes:\n",
    "            cv2.rectangle(roi_image,(ex,ey),(ex+ew,ey+eh),(255,22,0),2)\n",
    "            cv2.imshow('Image',image)\n",
    "            cv2.waitKey(0)\n",
    "\n",
    "    cv2.destroyAllWindows()\n",
    "\n",
    "else:\n",
    "    def detect(gray,frame):\n",
    "        faces=face_classifier.detectMultiScale(gray,1.3,5)\n",
    "        for (x,y,w,h) in faces:\n",
    "            cv2.rectangle(frame,(x,y),(x+w,y+h),(127,0,255),2)\n",
    "            roi_gray = gray[y:y+h,x:x+w]\n",
    "            roi_color=frame[y:y+h,x:x+w]\n",
    "            eyes=eye_classifier.detectMultiScale(roi_gray)\n",
    "            for (ex,ey,ew,eh) in eyes:\n",
    "                cv2.rectangle(roi_color,(ex,ey),(ex+ew,ey+eh),(255,22,0),2)\n",
    "        return frame\n",
    "    \n",
    "    video=cv2.VideoCapture(0)\n",
    "    while True:\n",
    "        ret,frame=video.read()\n",
    "        gray_video=cv2.cvtColor(frame,cv2.COLOR_BGR2GRAY)\n",
    "        canvas=detect(gray_video,frame)\n",
    "        cv2.imshow('video',canvas)\n",
    "        if cv2.waitKey(1)  & 0xFF==ord('q'):\n",
    "            break;\n",
    "    video.release()\n",
    "    cv2.destroyAllWindows()"
   ]
  },
  {
   "cell_type": "code",
   "execution_count": null,
   "id": "531194d8-e740-4a75-b6d1-5c088d865a32",
   "metadata": {},
   "outputs": [],
   "source": []
  },
  {
   "cell_type": "code",
   "execution_count": null,
   "id": "90be771a-5cab-452d-93df-4509e3ae3709",
   "metadata": {},
   "outputs": [],
   "source": []
  }
 ],
 "metadata": {
  "kernelspec": {
   "display_name": "Python 3 (ipykernel)",
   "language": "python",
   "name": "python3"
  },
  "language_info": {
   "codemirror_mode": {
    "name": "ipython",
    "version": 3
   },
   "file_extension": ".py",
   "mimetype": "text/x-python",
   "name": "python",
   "nbconvert_exporter": "python",
   "pygments_lexer": "ipython3",
   "version": "3.12.1"
  }
 },
 "nbformat": 4,
 "nbformat_minor": 5
}
