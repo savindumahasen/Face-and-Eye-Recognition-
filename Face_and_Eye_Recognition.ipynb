{
 "cells": [
  {
   "cell_type": "markdown",
   "id": "9e86c718-5c05-4e8a-ae82-90aebc00ecfc",
   "metadata": {},
   "source": [
    "## Face and Eye Recognition (HARR Classifier Model)"
   ]
  },
  {
   "cell_type": "code",
   "execution_count": 1,
   "id": "4cd8bf2a-264c-4f03-9ae8-6b708f706dea",
   "metadata": {},
   "outputs": [],
   "source": [
    "## import necessary librries\n",
    "import numpy as np\n",
    "import cv2\n",
    "\n",
    "## load the haarcascade frontface xml file\n",
    "face_classifier = cv2.CascadeClassifier('haarcascade_frontalface_default.xml')"
   ]
  },
  {
   "cell_type": "code",
   "execution_count": 9,
   "id": "215af5b8-3ab5-4903-b179-84444422557e",
   "metadata": {},
   "outputs": [],
   "source": [
    "## load and read the image\n",
    "image=cv2.imread('Emma-Watson-10.jpg')\n",
    "cv2.imshow('Sta',image)\n",
    "cv2.waitKey()\n",
    "cv2.destroyAllWindows()"
   ]
  },
  {
   "cell_type": "code",
   "execution_count": null,
   "id": "1c5a48a2-bee7-4d37-a007-53262d91ff90",
   "metadata": {},
   "outputs": [],
   "source": []
  },
  {
   "cell_type": "code",
   "execution_count": null,
   "id": "ef946e93-7ace-487b-860e-76c835a0b645",
   "metadata": {},
   "outputs": [],
   "source": []
  }
 ],
 "metadata": {
  "kernelspec": {
   "display_name": "Python 3 (ipykernel)",
   "language": "python",
   "name": "python3"
  },
  "language_info": {
   "codemirror_mode": {
    "name": "ipython",
    "version": 3
   },
   "file_extension": ".py",
   "mimetype": "text/x-python",
   "name": "python",
   "nbconvert_exporter": "python",
   "pygments_lexer": "ipython3",
   "version": "3.12.1"
  }
 },
 "nbformat": 4,
 "nbformat_minor": 5
}
