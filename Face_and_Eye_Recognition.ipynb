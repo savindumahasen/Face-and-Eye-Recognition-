{
 "cells": [
  {
   "cell_type": "markdown",
   "id": "9e86c718-5c05-4e8a-ae82-90aebc00ecfc",
   "metadata": {},
   "source": [
    "## Face and Eye Recognition (HARR Classifier Model)"
   ]
  },
  {
   "cell_type": "code",
   "execution_count": 3,
   "id": "4cd8bf2a-264c-4f03-9ae8-6b708f706dea",
   "metadata": {},
   "outputs": [],
   "source": [
    "## import necessary librries\n",
    "import numpy as np\n",
    "import cv2\n",
    "\n",
    "\n",
    "face_classifier = cv2.CascadeClassifier('haarcascade_frontalface_default.xml')"
   ]
  },
  {
   "cell_type": "code",
   "execution_count": null,
   "id": "215af5b8-3ab5-4903-b179-84444422557e",
   "metadata": {},
   "outputs": [],
   "source": []
  }
 ],
 "metadata": {
  "kernelspec": {
   "display_name": "Python 3 (ipykernel)",
   "language": "python",
   "name": "python3"
  },
  "language_info": {
   "codemirror_mode": {
    "name": "ipython",
    "version": 3
   },
   "file_extension": ".py",
   "mimetype": "text/x-python",
   "name": "python",
   "nbconvert_exporter": "python",
   "pygments_lexer": "ipython3",
   "version": "3.12.1"
  }
 },
 "nbformat": 4,
 "nbformat_minor": 5
}
